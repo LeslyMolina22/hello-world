{
  "nbformat": 4,
  "nbformat_minor": 0,
  "metadata": {
    "colab": {
      "name": "MiPruebaPython.ipynb",
      "provenance": [],
      "authorship_tag": "ABX9TyOAQCBNEMqhRGhAvBrQdvMB",
      "include_colab_link": true
    },
    "kernelspec": {
      "name": "python3",
      "display_name": "Python 3"
    },
    "language_info": {
      "name": "python"
    }
  },
  "cells": [
    {
      "cell_type": "markdown",
      "metadata": {
        "id": "view-in-github",
        "colab_type": "text"
      },
      "source": [
        "<a href=\"https://colab.research.google.com/github/LeslyMolina22/hello-world/blob/main/MiPruebaPython.ipynb\" target=\"_parent\"><img src=\"https://colab.research.google.com/assets/colab-badge.svg\" alt=\"Open In Colab\"/></a>"
      ]
    },
    {
      "cell_type": "markdown",
      "metadata": {
        "id": "bwY5iQxSQGSD"
      },
      "source": [
        "# Iniciando con Google Colab\n",
        "#### Titulo 4\n",
        "\n",
        "Objetivos\n",
        "\n",
        "\n",
        "*   Aprender \n",
        "*   Practicar\n",
        "*   Programar\n",
        "\n",
        "\n",
        "\n",
        "\n",
        "\n",
        "\n"
      ]
    },
    {
      "cell_type": "code",
      "metadata": {
        "colab": {
          "base_uri": "https://localhost:8080/"
        },
        "id": "mMWj-Zj6Q1lb",
        "outputId": "105d3d0d-fff5-41b6-a4a4-34c8a9e7a673"
      },
      "source": [
        "print(\"Hola Mundo Colab\")"
      ],
      "execution_count": 1,
      "outputs": [
        {
          "output_type": "stream",
          "text": [
            "Hola Mundo Colab\n"
          ],
          "name": "stdout"
        }
      ]
    },
    {
      "cell_type": "markdown",
      "metadata": {
        "id": "rDWchZXlR-se"
      },
      "source": [
        "### Clase de variables\n",
        "Inicie la variable 'a' en: 2 y 'b' en 3, luego al sumar me dio 5.\n"
      ]
    },
    {
      "cell_type": "code",
      "metadata": {
        "colab": {
          "base_uri": "https://localhost:8080/"
        },
        "id": "6m6rBy4dRNDj",
        "outputId": "a0a0f78f-9d6d-41cb-e335-44ed6d8dff0b"
      },
      "source": [
        "a = 2\n",
        "b = 3\n",
        "a+b"
      ],
      "execution_count": 2,
      "outputs": [
        {
          "output_type": "execute_result",
          "data": {
            "text/plain": [
              "5"
            ]
          },
          "metadata": {
            "tags": []
          },
          "execution_count": 2
        }
      ]
    },
    {
      "cell_type": "markdown",
      "metadata": {
        "id": "3PQK8YrQTgND"
      },
      "source": [
        "### Ejercicio de porcentajes \n",
        "Juan tiene 3 manzanas y una peras\n",
        "Pedro tiene 2 manzanas y 4 peras \n",
        "¿Que porcentaje de frutas tienen en total?\n",
        "\n"
      ]
    },
    {
      "cell_type": "code",
      "metadata": {
        "colab": {
          "base_uri": "https://localhost:8080/",
          "height": 111
        },
        "id": "k9mPyrpbT7af",
        "outputId": "9c2e154c-a557-461a-ae38-6f5a343fbe27"
      },
      "source": [
        "import pandas as pd\n",
        "datos = pd.DataFrame({\"Manzanas\": [3, 2], \"Peras\": [1, 4]}, index=[\"Juan\", \"Pedro\"])\n",
        "datos"
      ],
      "execution_count": 4,
      "outputs": [
        {
          "output_type": "execute_result",
          "data": {
            "text/html": [
              "<div>\n",
              "<style scoped>\n",
              "    .dataframe tbody tr th:only-of-type {\n",
              "        vertical-align: middle;\n",
              "    }\n",
              "\n",
              "    .dataframe tbody tr th {\n",
              "        vertical-align: top;\n",
              "    }\n",
              "\n",
              "    .dataframe thead th {\n",
              "        text-align: right;\n",
              "    }\n",
              "</style>\n",
              "<table border=\"1\" class=\"dataframe\">\n",
              "  <thead>\n",
              "    <tr style=\"text-align: right;\">\n",
              "      <th></th>\n",
              "      <th>Manzanas</th>\n",
              "      <th>Peras</th>\n",
              "    </tr>\n",
              "  </thead>\n",
              "  <tbody>\n",
              "    <tr>\n",
              "      <th>Juan</th>\n",
              "      <td>3</td>\n",
              "      <td>1</td>\n",
              "    </tr>\n",
              "    <tr>\n",
              "      <th>Pedro</th>\n",
              "      <td>2</td>\n",
              "      <td>4</td>\n",
              "    </tr>\n",
              "  </tbody>\n",
              "</table>\n",
              "</div>"
            ],
            "text/plain": [
              "       Manzanas  Peras\n",
              "Juan          3      1\n",
              "Pedro         2      4"
            ]
          },
          "metadata": {
            "tags": []
          },
          "execution_count": 4
        }
      ]
    },
    {
      "cell_type": "code",
      "metadata": {
        "colab": {
          "base_uri": "https://localhost:8080/",
          "height": 300
        },
        "id": "uYPFjy6jXp_0",
        "outputId": "e24151b9-5c86-4246-cae8-3516b52a23fc"
      },
      "source": [
        "datos.plot.bar()"
      ],
      "execution_count": 5,
      "outputs": [
        {
          "output_type": "execute_result",
          "data": {
            "text/plain": [
              "<matplotlib.axes._subplots.AxesSubplot at 0x7f9839cdd5d0>"
            ]
          },
          "metadata": {
            "tags": []
          },
          "execution_count": 5
        },
        {
          "output_type": "display_data",
          "data": {
            "image/png": "[encoded data removed]",
            "text/plain": [
              "<Figure size 432x288 with 1 Axes>"
            ]
          },
          "metadata": {
            "tags": [],
            "needs_background": "light"
          }
        }
      ]
    },
    {
      "cell_type": "code",
      "metadata": {
        "id": "6JdQpW6TawYi"
      },
      "source": [
        ""
      ],
      "execution_count": null,
      "outputs": []
    }
  ]
}